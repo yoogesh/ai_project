{
 "cells": [
  {
   "cell_type": "code",
   "execution_count": 9,
   "metadata": {
    "ExecuteTime": {
     "end_time": "2018-02-28T05:17:39.330951Z",
     "start_time": "2018-02-28T05:17:38.586761Z"
    }
   },
   "outputs": [],
   "source": [
    "#import the necessary header files \n",
    "from keras.models import Sequential\n",
    "from keras import backend as k\n",
    "from keras.layers import Conv2D, MaxPooling2D, Activation, Flatten, Dense, Dropout\n",
    "from keras.preprocessing.image import ImageDataGenerator"
   ]
  },
  {
   "cell_type": "code",
   "execution_count": 2,
   "metadata": {
    "ExecuteTime": {
     "end_time": "2018-02-28T05:17:39.334127Z",
     "start_time": "2018-02-28T05:17:39.332139Z"
    },
    "collapsed": true
   },
   "outputs": [],
   "source": [
    "# import tensorflow as tf\n",
    "# from keras.backend.tensorflow_backend import set_session\n",
    "# config = tf.ConfigProto()\n",
    "# config.gpu_options.per_process_gpu_memory_fraction = 0.3\n",
    "# set_session(tf.Session(config=config))"
   ]
  },
  {
   "cell_type": "code",
   "execution_count": 10,
   "metadata": {
    "ExecuteTime": {
     "end_time": "2018-02-28T05:17:39.339911Z",
     "start_time": "2018-02-28T05:17:39.334934Z"
    }
   },
   "outputs": [],
   "source": [
    "#create you own keras model\n",
    "fmodel = Sequential()"
   ]
  },
  {
   "cell_type": "code",
   "execution_count": 11,
   "metadata": {
    "ExecuteTime": {
     "end_time": "2018-02-28T05:17:39.345393Z",
     "start_time": "2018-02-28T05:17:39.340858Z"
    }
   },
   "outputs": [],
   "source": [
    "#define the basics of image and other properties \n",
    "image_width , image_height = 150,150\n",
    "train_data_dir = '/home/surya/yogesh/data/train'\n",
    "validate_data_dir = '/home/surya/yogesh/data/validation'\n",
    "number_train_images = 23000\n",
    "number_validate_images = 2000\n",
    "epochs = 50\n",
    "batchsize = 100"
   ]
  },
  {
   "cell_type": "code",
   "execution_count": 12,
   "metadata": {
    "ExecuteTime": {
     "end_time": "2018-02-28T05:17:39.359224Z",
     "start_time": "2018-02-28T05:17:39.346342Z"
    }
   },
   "outputs": [],
   "source": [
    "#checking the compatability ... theano or tensorflow from the file ~/keras.json\n",
    "if k.image_data_format() == 'channels_first':\n",
    "    input_shape = (3,image_width, image_height)\n",
    "else:\n",
    "    input_shape = (image_width,image_height, 3)"
   ]
  },
  {
   "cell_type": "code",
   "execution_count": 13,
   "metadata": {
    "ExecuteTime": {
     "end_time": "2018-02-28T05:17:39.421834Z",
     "start_time": "2018-02-28T05:17:39.360719Z"
    }
   },
   "outputs": [
    {
     "name": "stdout",
     "output_type": "stream",
     "text": [
      "_________________________________________________________________\n",
      "Layer (type)                 Output Shape              Param #   \n",
      "=================================================================\n",
      "conv2d_6 (Conv2D)            (None, 148, 148, 32)      896       \n",
      "_________________________________________________________________\n",
      "activation_8 (Activation)    (None, 148, 148, 32)      0         \n",
      "_________________________________________________________________\n",
      "max_pooling2d_6 (MaxPooling2 (None, 74, 74, 32)        0         \n",
      "_________________________________________________________________\n",
      "conv2d_7 (Conv2D)            (None, 72, 72, 32)        9248      \n",
      "_________________________________________________________________\n",
      "activation_9 (Activation)    (None, 72, 72, 32)        0         \n",
      "_________________________________________________________________\n",
      "max_pooling2d_7 (MaxPooling2 (None, 36, 36, 32)        0         \n",
      "_________________________________________________________________\n",
      "conv2d_8 (Conv2D)            (None, 34, 34, 64)        18496     \n",
      "_________________________________________________________________\n",
      "activation_10 (Activation)   (None, 34, 34, 64)        0         \n",
      "_________________________________________________________________\n",
      "max_pooling2d_8 (MaxPooling2 (None, 17, 17, 64)        0         \n",
      "_________________________________________________________________\n",
      "conv2d_9 (Conv2D)            (None, 15, 15, 64)        36928     \n",
      "_________________________________________________________________\n",
      "activation_11 (Activation)   (None, 15, 15, 64)        0         \n",
      "_________________________________________________________________\n",
      "max_pooling2d_9 (MaxPooling2 (None, 7, 7, 64)          0         \n",
      "_________________________________________________________________\n",
      "conv2d_10 (Conv2D)           (None, 5, 5, 128)         73856     \n",
      "_________________________________________________________________\n",
      "activation_12 (Activation)   (None, 5, 5, 128)         0         \n",
      "_________________________________________________________________\n",
      "max_pooling2d_10 (MaxPooling (None, 2, 2, 128)         0         \n",
      "_________________________________________________________________\n",
      "flatten_2 (Flatten)          (None, 512)               0         \n",
      "_________________________________________________________________\n",
      "dense_3 (Dense)              (None, 64)                32832     \n",
      "_________________________________________________________________\n",
      "activation_13 (Activation)   (None, 64)                0         \n",
      "_________________________________________________________________\n",
      "dropout_2 (Dropout)          (None, 64)                0         \n",
      "_________________________________________________________________\n",
      "dense_4 (Dense)              (None, 1)                 65        \n",
      "_________________________________________________________________\n",
      "activation_14 (Activation)   (None, 1)                 0         \n",
      "=================================================================\n",
      "Total params: 172,321\n",
      "Trainable params: 172,321\n",
      "Non-trainable params: 0\n",
      "_________________________________________________________________\n"
     ]
    }
   ],
   "source": [
    "#creating my own model with custom layers \n",
    "fmodel.add(Conv2D(32,(3,3), input_shape=(150,150,3)))\n",
    "fmodel.add(Activation('relu'))\n",
    "fmodel.add(MaxPooling2D(pool_size=(2,2)))\n",
    "\n",
    "fmodel.add(Conv2D(32,(3,3)))\n",
    "fmodel.add(Activation('relu'))\n",
    "fmodel.add(MaxPooling2D(pool_size=(2,2)))\n",
    "\n",
    "fmodel.add(Conv2D(64,(3,3)))\n",
    "fmodel.add(Activation('relu'))\n",
    "fmodel.add(MaxPooling2D(pool_size=(2,2)))\n",
    "\n",
    "fmodel.add(Conv2D(64,(3,3)))\n",
    "fmodel.add(Activation('relu'))\n",
    "fmodel.add(MaxPooling2D(pool_size=(2,2)))\n",
    "\n",
    "fmodel.add(Conv2D(128,(3,3)))\n",
    "fmodel.add(Activation('relu'))\n",
    "fmodel.add(MaxPooling2D(pool_size=(2,2)))\n",
    "\n",
    "fmodel.add(Flatten())\n",
    "fmodel.add(Dense(64))\n",
    "fmodel.add(Activation('relu'))\n",
    "fmodel.add(Dropout(0.5))\n",
    "fmodel.add(Dense(1))\n",
    "fmodel.add(Activation('sigmoid'))\n",
    "fmodel.summary()"
   ]
  },
  {
   "cell_type": "code",
   "execution_count": 6,
   "metadata": {
    "ExecuteTime": {
     "end_time": "2018-02-28T05:17:39.439755Z",
     "start_time": "2018-02-28T05:17:39.422980Z"
    }
   },
   "outputs": [
    {
     "name": "stdout",
     "output_type": "stream",
     "text": [
      "WARNING:tensorflow:From /usr/local/lib/python2.7/dist-packages/keras/backend/tensorflow_backend.py:1257: calling reduce_mean (from tensorflow.python.ops.math_ops) with keep_dims is deprecated and will be removed in a future version.\n",
      "Instructions for updating:\n",
      "keep_dims is deprecated, use keepdims instead\n"
     ]
    }
   ],
   "source": [
    "#now compile the above model using the statement \n",
    "fmodel.compile(loss='binary_crossentropy', optimizer='adam', metrics=['accuracy'])"
   ]
  },
  {
   "cell_type": "code",
   "execution_count": 7,
   "metadata": {
    "ExecuteTime": {
     "end_time": "2018-02-28T05:17:39.443031Z",
     "start_time": "2018-02-28T05:17:39.440962Z"
    }
   },
   "outputs": [],
   "source": [
    "#we apply the changes to the single train image \n",
    "train_single_image = ImageDataGenerator(\n",
    "                                            rescale=1. /255,\n",
    "                                            shear_range = 0.2,\n",
    "                                            zoom_range = 0.2,\n",
    "                                            horizontal_flip = True )"
   ]
  },
  {
   "cell_type": "code",
   "execution_count": 31,
   "metadata": {
    "ExecuteTime": {
     "end_time": "2018-02-28T05:17:40.109088Z",
     "start_time": "2018-02-28T05:17:39.443832Z"
    }
   },
   "outputs": [
    {
     "ename": "OSError",
     "evalue": "[Errno 2] No such file or directory: '/home/surya/yogesh/data/train'",
     "output_type": "error",
     "traceback": [
      "\u001b[0;31m---------------------------------------------------------------------------\u001b[0m",
      "\u001b[0;31mOSError\u001b[0m                                   Traceback (most recent call last)",
      "\u001b[0;32m<ipython-input-31-1aecb338d180>\u001b[0m in \u001b[0;36m<module>\u001b[0;34m()\u001b[0m\n\u001b[1;32m      4\u001b[0m                                                                \u001b[0mtarget_size\u001b[0m \u001b[0;34m=\u001b[0m \u001b[0;34m(\u001b[0m\u001b[0mimage_width\u001b[0m\u001b[0;34m,\u001b[0m \u001b[0mimage_height\u001b[0m\u001b[0;34m)\u001b[0m\u001b[0;34m,\u001b[0m\u001b[0;34m\u001b[0m\u001b[0m\n\u001b[1;32m      5\u001b[0m                                                                \u001b[0mbatch_size\u001b[0m \u001b[0;34m=\u001b[0m \u001b[0mbatchsize\u001b[0m\u001b[0;34m,\u001b[0m\u001b[0;34m\u001b[0m\u001b[0m\n\u001b[0;32m----> 6\u001b[0;31m                                                                class_mode='binary')\n\u001b[0m",
      "\u001b[0;32m/usr/local/lib/python2.7/dist-packages/keras/preprocessing/image.pyc\u001b[0m in \u001b[0;36mflow_from_directory\u001b[0;34m(self, directory, target_size, color_mode, classes, class_mode, batch_size, shuffle, seed, save_to_dir, save_prefix, save_format, follow_links)\u001b[0m\n\u001b[1;32m    472\u001b[0m             \u001b[0msave_prefix\u001b[0m\u001b[0;34m=\u001b[0m\u001b[0msave_prefix\u001b[0m\u001b[0;34m,\u001b[0m\u001b[0;34m\u001b[0m\u001b[0m\n\u001b[1;32m    473\u001b[0m             \u001b[0msave_format\u001b[0m\u001b[0;34m=\u001b[0m\u001b[0msave_format\u001b[0m\u001b[0;34m,\u001b[0m\u001b[0;34m\u001b[0m\u001b[0m\n\u001b[0;32m--> 474\u001b[0;31m             follow_links=follow_links)\n\u001b[0m\u001b[1;32m    475\u001b[0m \u001b[0;34m\u001b[0m\u001b[0m\n\u001b[1;32m    476\u001b[0m     \u001b[0;32mdef\u001b[0m \u001b[0mstandardize\u001b[0m\u001b[0;34m(\u001b[0m\u001b[0mself\u001b[0m\u001b[0;34m,\u001b[0m \u001b[0mx\u001b[0m\u001b[0;34m)\u001b[0m\u001b[0;34m:\u001b[0m\u001b[0;34m\u001b[0m\u001b[0m\n",
      "\u001b[0;32m/usr/local/lib/python2.7/dist-packages/keras/preprocessing/image.pyc\u001b[0m in \u001b[0;36m__init__\u001b[0;34m(self, directory, image_data_generator, target_size, color_mode, classes, class_mode, batch_size, shuffle, seed, data_format, save_to_dir, save_prefix, save_format, follow_links)\u001b[0m\n\u001b[1;32m    898\u001b[0m         \u001b[0;32mif\u001b[0m \u001b[0;32mnot\u001b[0m \u001b[0mclasses\u001b[0m\u001b[0;34m:\u001b[0m\u001b[0;34m\u001b[0m\u001b[0m\n\u001b[1;32m    899\u001b[0m             \u001b[0mclasses\u001b[0m \u001b[0;34m=\u001b[0m \u001b[0;34m[\u001b[0m\u001b[0;34m]\u001b[0m\u001b[0;34m\u001b[0m\u001b[0m\n\u001b[0;32m--> 900\u001b[0;31m             \u001b[0;32mfor\u001b[0m \u001b[0msubdir\u001b[0m \u001b[0;32min\u001b[0m \u001b[0msorted\u001b[0m\u001b[0;34m(\u001b[0m\u001b[0mos\u001b[0m\u001b[0;34m.\u001b[0m\u001b[0mlistdir\u001b[0m\u001b[0;34m(\u001b[0m\u001b[0mdirectory\u001b[0m\u001b[0;34m)\u001b[0m\u001b[0;34m)\u001b[0m\u001b[0;34m:\u001b[0m\u001b[0;34m\u001b[0m\u001b[0m\n\u001b[0m\u001b[1;32m    901\u001b[0m                 \u001b[0;32mif\u001b[0m \u001b[0mos\u001b[0m\u001b[0;34m.\u001b[0m\u001b[0mpath\u001b[0m\u001b[0;34m.\u001b[0m\u001b[0misdir\u001b[0m\u001b[0;34m(\u001b[0m\u001b[0mos\u001b[0m\u001b[0;34m.\u001b[0m\u001b[0mpath\u001b[0m\u001b[0;34m.\u001b[0m\u001b[0mjoin\u001b[0m\u001b[0;34m(\u001b[0m\u001b[0mdirectory\u001b[0m\u001b[0;34m,\u001b[0m \u001b[0msubdir\u001b[0m\u001b[0;34m)\u001b[0m\u001b[0;34m)\u001b[0m\u001b[0;34m:\u001b[0m\u001b[0;34m\u001b[0m\u001b[0m\n\u001b[1;32m    902\u001b[0m                     \u001b[0mclasses\u001b[0m\u001b[0;34m.\u001b[0m\u001b[0mappend\u001b[0m\u001b[0;34m(\u001b[0m\u001b[0msubdir\u001b[0m\u001b[0;34m)\u001b[0m\u001b[0;34m\u001b[0m\u001b[0m\n",
      "\u001b[0;31mOSError\u001b[0m: [Errno 2] No such file or directory: '/home/surya/yogesh/data/train'"
     ]
    }
   ],
   "source": [
    "#implement a loop mechanism for all the images in the training directory\n",
    "trainimage_generator = train_single_image.flow_from_directory(\n",
    "                                                               train_data_dir,\n",
    "                                                               target_size = (image_width, image_height),\n",
    "                                                               batch_size = batchsize,\n",
    "                                                               class_mode='binary')\n"
   ]
  },
  {
   "cell_type": "code",
   "execution_count": 46,
   "metadata": {
    "ExecuteTime": {
     "end_time": "2018-02-28T05:17:40.114776Z",
     "start_time": "2018-02-28T05:17:40.111354Z"
    }
   },
   "outputs": [],
   "source": [
    "#we apply the changes to the single validation image\n",
    "validate_single_image = ImageDataGenerator( rescale = 1. /255)\n"
   ]
  },
  {
   "cell_type": "code",
   "execution_count": 11,
   "metadata": {
    "ExecuteTime": {
     "end_time": "2018-02-28T05:17:40.229076Z",
     "start_time": "2018-02-28T05:17:40.116767Z"
    }
   },
   "outputs": [
    {
     "name": "stdout",
     "output_type": "stream",
     "text": [
      "Found 2000 images belonging to 2 classes.\n"
     ]
    }
   ],
   "source": [
    "#implement a loop mechanism for all the images in the validation  directory\n",
    "validationimage_generator = validate_single_image.flow_from_directory(\n",
    "                                                               validate_data_dir,\n",
    "                                                               target_size = (image_width, image_height),\n",
    "                                                               batch_size = batchsize,\n",
    "                                                               class_mode='binary')"
   ]
  },
  {
   "cell_type": "code",
   "execution_count": 12,
   "metadata": {
    "ExecuteTime": {
     "end_time": "2018-02-28T06:37:23.196763Z",
     "start_time": "2018-02-28T05:17:40.231258Z"
    },
    "scrolled": true
   },
   "outputs": [
    {
     "name": "stdout",
     "output_type": "stream",
     "text": [
      "Epoch 1/50\n",
      "230/230 [==============================] - 96s 419ms/step - loss: 0.6371 - acc: 0.6307 - val_loss: 0.5473 - val_acc: 0.7195\n",
      "Epoch 2/50\n",
      "230/230 [==============================] - 96s 416ms/step - loss: 0.5376 - acc: 0.7321 - val_loss: 0.4793 - val_acc: 0.7720\n",
      "Epoch 3/50\n",
      "230/230 [==============================] - 96s 418ms/step - loss: 0.4792 - acc: 0.7727 - val_loss: 0.4372 - val_acc: 0.7965\n",
      "Epoch 4/50\n",
      "230/230 [==============================] - 96s 419ms/step - loss: 0.4484 - acc: 0.7966 - val_loss: 0.3843 - val_acc: 0.8175\n",
      "Epoch 5/50\n",
      "230/230 [==============================] - 96s 416ms/step - loss: 0.4224 - acc: 0.8123 - val_loss: 0.3681 - val_acc: 0.8330\n",
      "Epoch 6/50\n",
      "230/230 [==============================] - 96s 416ms/step - loss: 0.4065 - acc: 0.8203 - val_loss: 0.3736 - val_acc: 0.8325\n",
      "Epoch 7/50\n",
      "230/230 [==============================] - 96s 418ms/step - loss: 0.3850 - acc: 0.8329 - val_loss: 0.3465 - val_acc: 0.8435\n",
      "Epoch 8/50\n",
      "230/230 [==============================] - 95s 412ms/step - loss: 0.3754 - acc: 0.8381 - val_loss: 0.3336 - val_acc: 0.8525\n",
      "Epoch 9/50\n",
      "230/230 [==============================] - 96s 416ms/step - loss: 0.3517 - acc: 0.8503 - val_loss: 0.3514 - val_acc: 0.8365\n",
      "Epoch 10/50\n",
      "230/230 [==============================] - 96s 417ms/step - loss: 0.3453 - acc: 0.8512 - val_loss: 0.3101 - val_acc: 0.8690\n",
      "Epoch 11/50\n",
      "230/230 [==============================] - 96s 417ms/step - loss: 0.3318 - acc: 0.8585 - val_loss: 0.3471 - val_acc: 0.8550\n",
      "Epoch 12/50\n",
      "230/230 [==============================] - 96s 417ms/step - loss: 0.3326 - acc: 0.8561 - val_loss: 0.3113 - val_acc: 0.8615\n",
      "Epoch 13/50\n",
      "230/230 [==============================] - 96s 417ms/step - loss: 0.3093 - acc: 0.8691 - val_loss: 0.3089 - val_acc: 0.8605\n",
      "Epoch 14/50\n",
      "230/230 [==============================] - 96s 417ms/step - loss: 0.3074 - acc: 0.8695 - val_loss: 0.3101 - val_acc: 0.8700\n",
      "Epoch 15/50\n",
      "230/230 [==============================] - 95s 411ms/step - loss: 0.3023 - acc: 0.8729 - val_loss: 0.2749 - val_acc: 0.8900\n",
      "Epoch 16/50\n",
      "230/230 [==============================] - 96s 417ms/step - loss: 0.3025 - acc: 0.8716 - val_loss: 0.3106 - val_acc: 0.8780\n",
      "Epoch 17/50\n",
      "230/230 [==============================] - 96s 416ms/step - loss: 0.2861 - acc: 0.8797 - val_loss: 0.2873 - val_acc: 0.8800\n",
      "Epoch 18/50\n",
      "230/230 [==============================] - 96s 417ms/step - loss: 0.2793 - acc: 0.8829 - val_loss: 0.2694 - val_acc: 0.8865\n",
      "Epoch 19/50\n",
      "230/230 [==============================] - 96s 418ms/step - loss: 0.2778 - acc: 0.8843 - val_loss: 0.2594 - val_acc: 0.8925\n",
      "Epoch 20/50\n",
      "230/230 [==============================] - 96s 417ms/step - loss: 0.2688 - acc: 0.8873 - val_loss: 0.3002 - val_acc: 0.8605\n",
      "Epoch 21/50\n",
      "230/230 [==============================] - 95s 411ms/step - loss: 0.2608 - acc: 0.8911 - val_loss: 0.2834 - val_acc: 0.8870\n",
      "Epoch 22/50\n",
      "230/230 [==============================] - 96s 415ms/step - loss: 0.2612 - acc: 0.8895 - val_loss: 0.2613 - val_acc: 0.8945\n",
      "Epoch 23/50\n",
      "230/230 [==============================] - 96s 416ms/step - loss: 0.2509 - acc: 0.8960 - val_loss: 0.2605 - val_acc: 0.8975\n",
      "Epoch 24/50\n",
      "230/230 [==============================] - 96s 416ms/step - loss: 0.2454 - acc: 0.8984 - val_loss: 0.2630 - val_acc: 0.8905\n",
      "Epoch 25/50\n",
      "230/230 [==============================] - 96s 416ms/step - loss: 0.2391 - acc: 0.9024 - val_loss: 0.2957 - val_acc: 0.8810\n",
      "Epoch 26/50\n",
      "230/230 [==============================] - 96s 416ms/step - loss: 0.2401 - acc: 0.9012 - val_loss: 0.3094 - val_acc: 0.8660\n",
      "Epoch 27/50\n",
      "230/230 [==============================] - 96s 415ms/step - loss: 0.2358 - acc: 0.9034 - val_loss: 0.2781 - val_acc: 0.8845\n",
      "Epoch 28/50\n",
      "230/230 [==============================] - 95s 412ms/step - loss: 0.2310 - acc: 0.9053 - val_loss: 0.2604 - val_acc: 0.8895\n",
      "Epoch 29/50\n",
      "230/230 [==============================] - 96s 415ms/step - loss: 0.2291 - acc: 0.9057 - val_loss: 0.2780 - val_acc: 0.8795\n",
      "Epoch 30/50\n",
      "230/230 [==============================] - 96s 416ms/step - loss: 0.2224 - acc: 0.9087 - val_loss: 0.2520 - val_acc: 0.8965\n",
      "Epoch 31/50\n",
      "230/230 [==============================] - 96s 417ms/step - loss: 0.2169 - acc: 0.9115 - val_loss: 0.2472 - val_acc: 0.9025\n",
      "Epoch 32/50\n",
      "230/230 [==============================] - 96s 417ms/step - loss: 0.2157 - acc: 0.9126 - val_loss: 0.2553 - val_acc: 0.9025\n",
      "Epoch 33/50\n",
      "230/230 [==============================] - 96s 417ms/step - loss: 0.2148 - acc: 0.9113 - val_loss: 0.2550 - val_acc: 0.8975\n",
      "Epoch 34/50\n",
      "230/230 [==============================] - 95s 411ms/step - loss: 0.2056 - acc: 0.9166 - val_loss: 0.2392 - val_acc: 0.9045\n",
      "Epoch 35/50\n",
      "230/230 [==============================] - 96s 417ms/step - loss: 0.2015 - acc: 0.9169 - val_loss: 0.2727 - val_acc: 0.8925\n",
      "Epoch 36/50\n",
      "230/230 [==============================] - 96s 415ms/step - loss: 0.1989 - acc: 0.9199 - val_loss: 0.2456 - val_acc: 0.9000\n",
      "Epoch 37/50\n",
      "230/230 [==============================] - 96s 416ms/step - loss: 0.2059 - acc: 0.9157 - val_loss: 0.2273 - val_acc: 0.9060\n",
      "Epoch 38/50\n",
      "230/230 [==============================] - 96s 416ms/step - loss: 0.2059 - acc: 0.9166 - val_loss: 0.2403 - val_acc: 0.9065\n",
      "Epoch 39/50\n",
      "230/230 [==============================] - 96s 416ms/step - loss: 0.1990 - acc: 0.9209 - val_loss: 0.2265 - val_acc: 0.9020\n",
      "Epoch 40/50\n",
      "230/230 [==============================] - 96s 417ms/step - loss: 0.1936 - acc: 0.9197 - val_loss: 0.2370 - val_acc: 0.9065\n",
      "Epoch 41/50\n",
      "230/230 [==============================] - 95s 412ms/step - loss: 0.1893 - acc: 0.9231 - val_loss: 0.2472 - val_acc: 0.9050\n",
      "Epoch 42/50\n",
      "230/230 [==============================] - 96s 417ms/step - loss: 0.1902 - acc: 0.9224 - val_loss: 0.2301 - val_acc: 0.9080\n",
      "Epoch 43/50\n",
      "230/230 [==============================] - 96s 417ms/step - loss: 0.1908 - acc: 0.9216 - val_loss: 0.2416 - val_acc: 0.9045\n",
      "Epoch 44/50\n",
      "230/230 [==============================] - 96s 416ms/step - loss: 0.1799 - acc: 0.9266 - val_loss: 0.2427 - val_acc: 0.9055\n",
      "Epoch 45/50\n",
      "230/230 [==============================] - 96s 416ms/step - loss: 0.1816 - acc: 0.9264 - val_loss: 0.2468 - val_acc: 0.8985\n",
      "Epoch 46/50\n",
      "230/230 [==============================] - 96s 416ms/step - loss: 0.1838 - acc: 0.9258 - val_loss: 0.2300 - val_acc: 0.9105\n",
      "Epoch 47/50\n",
      "230/230 [==============================] - 94s 411ms/step - loss: 0.1737 - acc: 0.9285 - val_loss: 0.2486 - val_acc: 0.8925\n",
      "Epoch 48/50\n",
      "230/230 [==============================] - 96s 417ms/step - loss: 0.1730 - acc: 0.9300 - val_loss: 0.3064 - val_acc: 0.8870\n",
      "Epoch 49/50\n",
      "230/230 [==============================] - 96s 416ms/step - loss: 0.1778 - acc: 0.9269 - val_loss: 0.2311 - val_acc: 0.9110\n",
      "Epoch 50/50\n",
      "230/230 [==============================] - 96s 416ms/step - loss: 0.1708 - acc: 0.9298 - val_loss: 0.2202 - val_acc: 0.9165\n"
     ]
    }
   ],
   "source": [
    "output = fmodel.fit_generator(\n",
    "                                 trainimage_generator,\n",
    "                                 steps_per_epoch=number_train_images // batchsize,\n",
    "                                 epochs=epochs,\n",
    "                                 validation_data=validationimage_generator,\n",
    "                                 validation_steps = number_validate_images // batchsize)"
   ]
  },
  {
   "cell_type": "code",
   "execution_count": 13,
   "metadata": {
    "ExecuteTime": {
     "end_time": "2018-02-28T06:37:23.318295Z",
     "start_time": "2018-02-28T06:37:23.198722Z"
    }
   },
   "outputs": [
    {
     "name": "stdout",
     "output_type": "stream",
     "text": [
      "dict_keys(['val_loss', 'val_acc', 'loss', 'acc'])\n"
     ]
    }
   ],
   "source": [
    "print(output.history.keys())\n",
    "import matplotlib.pyplot as  plt"
   ]
  },
  {
   "cell_type": "code",
   "execution_count": 14,
   "metadata": {
    "ExecuteTime": {
     "end_time": "2018-02-28T06:37:23.520420Z",
     "start_time": "2018-02-28T06:37:23.319252Z"
    }
   },
   "outputs": [
    {
     "data": {
      "image/png": "[encoded data removed]",
      "text/plain": [
       "<matplotlib.figure.Figure at 0x7f3ee99edcf8>"
      ]
     },
     "metadata": {},
     "output_type": "display_data"
    },
    {
     "data": {
      "image/png": "[encoded data removed]",
      "text/plain": [
       "<matplotlib.figure.Figure at 0x7f3ee9938390>"
      ]
     },
     "metadata": {},
     "output_type": "display_data"
    }
   ],
   "source": [
    "# summarize history for accuracy\n",
    "plt.plot(output.history['acc'])\n",
    "plt.plot(output.history['val_acc'])\n",
    "plt.title('model accuracy')\n",
    "plt.ylabel('accuracy')\n",
    "plt.xlabel('epoch')\n",
    "plt.legend(['train', 'test'], loc='upper left')\n",
    "plt.show()\n",
    "# summarize history for loss\n",
    "plt.plot(output.history['loss'])\n",
    "plt.plot(output.history['val_loss'])\n",
    "plt.title('model loss')\n",
    "plt.ylabel('loss')\n",
    "plt.xlabel('epoch')\n",
    "plt.legend(['train', 'test'], loc='upper left')\n",
    "plt.show()"
   ]
  },
  {
   "cell_type": "code",
   "execution_count": null,
   "metadata": {
    "collapsed": true
   },
   "outputs": [],
   "source": [
    "fmodel.save(\"50_epoch\")"
   ]
  },
  {
   "cell_type": "code",
   "execution_count": 9,
   "metadata": {},
   "outputs": [
    {
     "ename": "AttributeError",
     "evalue": "'Image' object has no attribute 'reshape'",
     "output_type": "error",
     "traceback": [
      "\u001b[0;31m---------------------------------------------------------------------------\u001b[0m",
      "\u001b[0;31mAttributeError\u001b[0m                            Traceback (most recent call last)",
      "\u001b[0;32m<ipython-input-9-800e1c1372b8>\u001b[0m in \u001b[0;36m<module>\u001b[0;34m()\u001b[0m\n\u001b[1;32m      9\u001b[0m \u001b[0;31m#hello=fmodel.predict_generator(dataimg, steps=1,verbose=0)\u001b[0m\u001b[0;34m\u001b[0m\u001b[0;34m\u001b[0m\u001b[0m\n\u001b[1;32m     10\u001b[0m \u001b[0;31m#print(hello)\u001b[0m\u001b[0;34m\u001b[0m\u001b[0;34m\u001b[0m\u001b[0m\n\u001b[0;32m---> 11\u001b[0;31m \u001b[0mimage\u001b[0m \u001b[0;34m=\u001b[0m \u001b[0mimg\u001b[0m\u001b[0;34m.\u001b[0m\u001b[0mreshape\u001b[0m\u001b[0;34m(\u001b[0m\u001b[0;34m(\u001b[0m\u001b[0;36m1\u001b[0m\u001b[0;34m,\u001b[0m \u001b[0mimg\u001b[0m\u001b[0;34m.\u001b[0m\u001b[0mshape\u001b[0m\u001b[0;34m[\u001b[0m\u001b[0;36m0\u001b[0m\u001b[0;34m]\u001b[0m\u001b[0;34m,\u001b[0m \u001b[0mimg\u001b[0m\u001b[0;34m.\u001b[0m\u001b[0mshape\u001b[0m\u001b[0;34m[\u001b[0m\u001b[0;36m1\u001b[0m\u001b[0;34m]\u001b[0m\u001b[0;34m,\u001b[0m \u001b[0mimg\u001b[0m\u001b[0;34m.\u001b[0m\u001b[0mshape\u001b[0m\u001b[0;34m[\u001b[0m\u001b[0;36m2\u001b[0m\u001b[0;34m]\u001b[0m\u001b[0;34m)\u001b[0m\u001b[0;34m)\u001b[0m\u001b[0;34m\u001b[0m\u001b[0m\n\u001b[0m",
      "\u001b[0;31mAttributeError\u001b[0m: 'Image' object has no attribute 'reshape'"
     ]
    }
   ],
   "source": [
    "from PIL import Image\n",
    "from keras.preprocessing.image import *\n",
    "from keras.preprocessing.image import img_to_array\n",
    "img = load_img('/home/ram/Downloads/cat.jpg', target_size=(150,150,3))\n",
    "#res = img.resize((None,150,150))\n",
    "#dataimg= img_to_array(res)\n",
    "#dataimg= img_to_array(img)\n",
    "#print(dataimg.shape)\n",
    "#hello=fmodel.predict_generator(dataimg, steps=1,verbose=0)\n",
    "#print(hello)\n",
    "image = img.reshape((1, img.shape[0], img.shape[1], img.shape[2]))\n"
   ]
  },
  {
   "cell_type": "code",
   "execution_count": 8,
   "metadata": {},
   "outputs": [
    {
     "name": "stdout",
     "output_type": "stream",
     "text": [
      "[[[194 207 223]\n",
      "  [194 207 223]\n",
      "  [194 207 223]\n",
      "  ...\n",
      "  [193 207 220]\n",
      "  [183 199 214]\n",
      "  [159 181 204]]\n",
      "\n",
      " [[195 208 224]\n",
      "  [194 207 223]\n",
      "  [194 207 223]\n",
      "  ...\n",
      "  [191 205 218]\n",
      "  [181 197 213]\n",
      "  [157 179 203]]\n",
      "\n",
      " [[196 210 223]\n",
      "  [195 209 222]\n",
      "  [194 208 221]\n",
      "  ...\n",
      "  [190 203 219]\n",
      "  [179 196 212]\n",
      "  [155 179 203]]\n",
      "\n",
      " ...\n",
      "\n",
      " [[231 234 239]\n",
      "  [234 237 242]\n",
      "  [236 239 244]\n",
      "  ...\n",
      "  [209 213 225]\n",
      "  [209 213 225]\n",
      "  [205 209 220]]\n",
      "\n",
      " [[235 238 243]\n",
      "  [238 241 246]\n",
      "  [240 243 248]\n",
      "  ...\n",
      "  [210 214 226]\n",
      "  [213 217 228]\n",
      "  [216 220 231]]\n",
      "\n",
      " [[238 241 246]\n",
      "  [241 244 249]\n",
      "  [243 246 251]\n",
      "  ...\n",
      "  [209 213 224]\n",
      "  [215 219 230]\n",
      "  [227 231 240]]]\n"
     ]
    },
    {
     "ename": "ValueError",
     "evalue": "Error when checking : expected conv2d_1_input to have 4 dimensions, but got array with shape (150, 150, 3)",
     "output_type": "error",
     "traceback": [
      "\u001b[0;31m---------------------------------------------------------------------------\u001b[0m",
      "\u001b[0;31mValueError\u001b[0m                                Traceback (most recent call last)",
      "\u001b[0;32m<ipython-input-8-4a253736174c>\u001b[0m in \u001b[0;36m<module>\u001b[0;34m()\u001b[0m\n\u001b[1;32m      9\u001b[0m \u001b[0;32mprint\u001b[0m\u001b[0;34m(\u001b[0m\u001b[0mx_train\u001b[0m\u001b[0;34m)\u001b[0m\u001b[0;34m\u001b[0m\u001b[0m\n\u001b[1;32m     10\u001b[0m \u001b[0;34m\u001b[0m\u001b[0m\n\u001b[0;32m---> 11\u001b[0;31m \u001b[0mhello\u001b[0m\u001b[0;34m=\u001b[0m\u001b[0mfmodel\u001b[0m\u001b[0;34m.\u001b[0m\u001b[0mpredict\u001b[0m\u001b[0;34m(\u001b[0m\u001b[0mx_train\u001b[0m\u001b[0;34m)\u001b[0m\u001b[0;34m\u001b[0m\u001b[0m\n\u001b[0m",
      "\u001b[0;32m/usr/local/lib/python2.7/dist-packages/keras/models.pyc\u001b[0m in \u001b[0;36mpredict\u001b[0;34m(self, x, batch_size, verbose)\u001b[0m\n\u001b[1;32m    900\u001b[0m         \u001b[0;32mif\u001b[0m \u001b[0mself\u001b[0m\u001b[0;34m.\u001b[0m\u001b[0mmodel\u001b[0m \u001b[0;32mis\u001b[0m \u001b[0mNone\u001b[0m\u001b[0;34m:\u001b[0m\u001b[0;34m\u001b[0m\u001b[0m\n\u001b[1;32m    901\u001b[0m             \u001b[0mself\u001b[0m\u001b[0;34m.\u001b[0m\u001b[0mbuild\u001b[0m\u001b[0;34m(\u001b[0m\u001b[0;34m)\u001b[0m\u001b[0;34m\u001b[0m\u001b[0m\n\u001b[0;32m--> 902\u001b[0;31m         \u001b[0;32mreturn\u001b[0m \u001b[0mself\u001b[0m\u001b[0;34m.\u001b[0m\u001b[0mmodel\u001b[0m\u001b[0;34m.\u001b[0m\u001b[0mpredict\u001b[0m\u001b[0;34m(\u001b[0m\u001b[0mx\u001b[0m\u001b[0;34m,\u001b[0m \u001b[0mbatch_size\u001b[0m\u001b[0;34m=\u001b[0m\u001b[0mbatch_size\u001b[0m\u001b[0;34m,\u001b[0m \u001b[0mverbose\u001b[0m\u001b[0;34m=\u001b[0m\u001b[0mverbose\u001b[0m\u001b[0;34m)\u001b[0m\u001b[0;34m\u001b[0m\u001b[0m\n\u001b[0m\u001b[1;32m    903\u001b[0m \u001b[0;34m\u001b[0m\u001b[0m\n\u001b[1;32m    904\u001b[0m     \u001b[0;32mdef\u001b[0m \u001b[0mpredict_on_batch\u001b[0m\u001b[0;34m(\u001b[0m\u001b[0mself\u001b[0m\u001b[0;34m,\u001b[0m \u001b[0mx\u001b[0m\u001b[0;34m)\u001b[0m\u001b[0;34m:\u001b[0m\u001b[0;34m\u001b[0m\u001b[0m\n",
      "\u001b[0;32m/usr/local/lib/python2.7/dist-packages/keras/engine/training.pyc\u001b[0m in \u001b[0;36mpredict\u001b[0;34m(self, x, batch_size, verbose)\u001b[0m\n\u001b[1;32m   1565\u001b[0m         x = _standardize_input_data(x, self._feed_input_names,\n\u001b[1;32m   1566\u001b[0m                                     \u001b[0mself\u001b[0m\u001b[0;34m.\u001b[0m\u001b[0m_feed_input_shapes\u001b[0m\u001b[0;34m,\u001b[0m\u001b[0;34m\u001b[0m\u001b[0m\n\u001b[0;32m-> 1567\u001b[0;31m                                     check_batch_axis=False)\n\u001b[0m\u001b[1;32m   1568\u001b[0m         \u001b[0;32mif\u001b[0m \u001b[0mself\u001b[0m\u001b[0;34m.\u001b[0m\u001b[0mstateful\u001b[0m\u001b[0;34m:\u001b[0m\u001b[0;34m\u001b[0m\u001b[0m\n\u001b[1;32m   1569\u001b[0m             \u001b[0;32mif\u001b[0m \u001b[0mx\u001b[0m\u001b[0;34m[\u001b[0m\u001b[0;36m0\u001b[0m\u001b[0;34m]\u001b[0m\u001b[0;34m.\u001b[0m\u001b[0mshape\u001b[0m\u001b[0;34m[\u001b[0m\u001b[0;36m0\u001b[0m\u001b[0;34m]\u001b[0m \u001b[0;34m>\u001b[0m \u001b[0mbatch_size\u001b[0m \u001b[0;32mand\u001b[0m \u001b[0mx\u001b[0m\u001b[0;34m[\u001b[0m\u001b[0;36m0\u001b[0m\u001b[0;34m]\u001b[0m\u001b[0;34m.\u001b[0m\u001b[0mshape\u001b[0m\u001b[0;34m[\u001b[0m\u001b[0;36m0\u001b[0m\u001b[0;34m]\u001b[0m \u001b[0;34m%\u001b[0m \u001b[0mbatch_size\u001b[0m \u001b[0;34m!=\u001b[0m \u001b[0;36m0\u001b[0m\u001b[0;34m:\u001b[0m\u001b[0;34m\u001b[0m\u001b[0m\n",
      "\u001b[0;32m/usr/local/lib/python2.7/dist-packages/keras/engine/training.pyc\u001b[0m in \u001b[0;36m_standardize_input_data\u001b[0;34m(data, names, shapes, check_batch_axis, exception_prefix)\u001b[0m\n\u001b[1;32m    125\u001b[0m                                  \u001b[0;34m' to have '\u001b[0m \u001b[0;34m+\u001b[0m \u001b[0mstr\u001b[0m\u001b[0;34m(\u001b[0m\u001b[0mlen\u001b[0m\u001b[0;34m(\u001b[0m\u001b[0mshapes\u001b[0m\u001b[0;34m[\u001b[0m\u001b[0mi\u001b[0m\u001b[0;34m]\u001b[0m\u001b[0;34m)\u001b[0m\u001b[0;34m)\u001b[0m \u001b[0;34m+\u001b[0m\u001b[0;34m\u001b[0m\u001b[0m\n\u001b[1;32m    126\u001b[0m                                  \u001b[0;34m' dimensions, but got array with shape '\u001b[0m \u001b[0;34m+\u001b[0m\u001b[0;34m\u001b[0m\u001b[0m\n\u001b[0;32m--> 127\u001b[0;31m                                  str(array.shape))\n\u001b[0m\u001b[1;32m    128\u001b[0m             \u001b[0;32mfor\u001b[0m \u001b[0mj\u001b[0m\u001b[0;34m,\u001b[0m \u001b[0;34m(\u001b[0m\u001b[0mdim\u001b[0m\u001b[0;34m,\u001b[0m \u001b[0mref_dim\u001b[0m\u001b[0;34m)\u001b[0m \u001b[0;32min\u001b[0m \u001b[0menumerate\u001b[0m\u001b[0;34m(\u001b[0m\u001b[0mzip\u001b[0m\u001b[0;34m(\u001b[0m\u001b[0marray\u001b[0m\u001b[0;34m.\u001b[0m\u001b[0mshape\u001b[0m\u001b[0;34m,\u001b[0m \u001b[0mshapes\u001b[0m\u001b[0;34m[\u001b[0m\u001b[0mi\u001b[0m\u001b[0;34m]\u001b[0m\u001b[0;34m)\u001b[0m\u001b[0;34m)\u001b[0m\u001b[0;34m:\u001b[0m\u001b[0;34m\u001b[0m\u001b[0m\n\u001b[1;32m    129\u001b[0m                 \u001b[0;32mif\u001b[0m \u001b[0;32mnot\u001b[0m \u001b[0mj\u001b[0m \u001b[0;32mand\u001b[0m \u001b[0;32mnot\u001b[0m \u001b[0mcheck_batch_axis\u001b[0m\u001b[0;34m:\u001b[0m\u001b[0;34m\u001b[0m\u001b[0m\n",
      "\u001b[0;31mValueError\u001b[0m: Error when checking : expected conv2d_1_input to have 4 dimensions, but got array with shape (150, 150, 3)"
     ]
    }
   ],
   "source": [
    "import numpy as np\n",
    "from PIL import Image\n",
    "import matplotlib as plt\n",
    "\n",
    "x_train = Image.open('/home/ram/Downloads/cat.jpg')\n",
    "x_train = x_train.resize((150,150))\n",
    "x_train = np.array(x_train)\n",
    "x_train = x_train.reshape((150,150,3))\n",
    "print(x_train)\n",
    "\n",
    "hello=fmodel.predict(x_train)"
   ]
  },
  {
   "cell_type": "code",
   "execution_count": null,
   "metadata": {},
   "outputs": [],
   "source": []
  }
 ],
 "metadata": {
  "hide_input": false,
  "kernelspec": {
   "display_name": "Python 2",
   "language": "python",
   "name": "python2"
  },
  "language_info": {
   "codemirror_mode": {
    "name": "ipython",
    "version": 2
   },
   "file_extension": ".py",
   "mimetype": "text/x-python",
   "name": "python",
   "nbconvert_exporter": "python",
   "pygments_lexer": "ipython2",
   "version": "2.7.12"
  },
  "toc": {
   "nav_menu": {},
   "number_sections": true,
   "sideBar": true,
   "skip_h1_title": false,
   "toc_cell": false,
   "toc_position": {},
   "toc_section_display": "block",
   "toc_window_display": false
  }
 },
 "nbformat": 4,
 "nbformat_minor": 2
}
